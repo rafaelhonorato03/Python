{
  "nbformat": 4,
  "nbformat_minor": 0,
  "metadata": {
    "colab": {
      "provenance": [],
      "authorship_tag": "ABX9TyNO2CocWzxg/GC3kD+kSA8s",
      "include_colab_link": true
    },
    "kernelspec": {
      "name": "python3",
      "display_name": "Python 3"
    },
    "language_info": {
      "name": "python"
    }
  },
  "cells": [
    {
      "cell_type": "markdown",
      "metadata": {
        "id": "view-in-github",
        "colab_type": "text"
      },
      "source": [
        "<a href=\"https://colab.research.google.com/github/rafaelhonorato03/Python/blob/main/Potenciometria.ipynb\" target=\"_parent\"><img src=\"https://colab.research.google.com/assets/colab-badge.svg\" alt=\"Open In Colab\"/></a>"
      ]
    },
    {
      "cell_type": "markdown",
      "source": [
        "# Potenciometria\n",
        "\n",
        "As titulações potenciométricas são altamente precisas e exatas, proporcionando dados mais confiáveis do que as titulações com indicadores químicos. Elas são especialmente úteis em soluções coloridas ou turvas, eliminando a necessidade de medições exatas de potencial em cada ponto, pois dependem apenas da variação do potencial da reação principal. No entanto, a desvantagem é a necessidade de realizar cálculos adicionais para traduzir as medições em concentrações da amostra.\n",
        "\n",
        "Este artigo apresenta uma solução para simplificar esses cálculos e melhorar a visualização de dados por meio de uma aplicação em Python."
      ],
      "metadata": {
        "id": "mwOespyhN34g"
      }
    },
    {
      "cell_type": "markdown",
      "source": [
        "## Titulação\n",
        "\n",
        "A titulação é um procedimento analítico em que uma substância padrão é gradualmente adicionada a uma solução contendo o analito ou vice-versa. O padrão e o analito reagem em uma reação conhecida e rápida. A adição é interrompida quando se considera que todo o analito foi consumido, e não há excesso do padrão, como era comum nos métodos com indicadores químicos. Em métodos potenciométricos, o ponto final é determinado por meio de tratamento de dados e, em muitos casos, a titulação deve continuar.\n",
        "\n",
        "Na primeira titulação registrada na história da química, conchas moídas de carbonato de cálcio eram adicionadas gradualmente ao vinagre para indicar a acidez do mosto que fermentava. O ponto final era determinado pelo término da efervescência, indicando o consumo de todos os ácidos. Nesse método antigo, a quantidade de matéria era medida, não a concentração do analito. Esses princípios ainda são válidos, embora os instrumentos e métodos de determinar o ponto estequiométrico tenham evoluído significativamente.\n",
        "\n",
        "Um sistema de titulação potenciométrica é montado usando medição potenciométrica (um milivoltímetro eletrônico, eletrodo indicador e eletrodo de referência), juntamente com agitação e uma bureta (ou outro medidor de volume preciso). Nos últimos anos, esses equipamentos foram automatizados para criar tituladores automáticos."
      ],
      "metadata": {
        "id": "2_bFv5rYOvVu"
      }
    },
    {
      "cell_type": "markdown",
      "source": [
        "### Ponto de equivalência\n",
        "\n",
        "O principal desafio na titulação é identificar o ponto em que as substâncias reagentes estão em quantidades equivalentes. Na titulação potenciométrica, esse ponto deve coincidir com o ponto de inflexão na curva resultante de E (potencial em mV) em função de V (volume em mL), onde E é o potencial medido e V é o volume de titulante adicionado. Determinar com precisão esse ponto na curva é complexo e propenso a erros. O ponto de máxima variação de potencial, ou seja, o ponto de inflexão, pode ser com maior segurança identificado usando o método da primeira derivada.\n",
        "\n",
        "Para aplicar esse método com sucesso, é necessário realizar várias medições de potencial ao redor do ponto de equivalência, incluindo adições muito pequenas de volume antes e depois desse ponto. Para criar o gráfico da primeira derivada, é necessário calcular uma nova série de pontos a partir dos valores originais de E e V. Isso envolve calcular a variação de E em relação à variação de V entre cada ponto. Além disso, a abscissa da primeira derivada é calculada como o volume médio, obtido pela média das abscissas de um ponto e do ponto anterior.\n",
        "\n",
        "Esses dados são essenciais para a construção do gráfico da primeira derivada. Uma análise mais clara do ponto final da titulação pode ser obtida ao calcular a segunda derivada a partir dos dados da primeira derivada. Nesse caso, a ordenada é a diferença entre a ordenada de um ponto e a do ponto anterior, ou seja, Δ(ΔE/ΔV). Cada ponto na nova ordenada é então plotado em relação ao volume médio de cada par de pontos no eixo x da primeira derivada (média da abscissa de um ponto menos a abscissa do ponto anterior). Matematicamente, a geração de derivadas experimentais de primeira e segunda ordem é uma boa aproximação das derivadas matemáticas da função original. No entanto, deve-se notar que a segunda derivada nem sempre é a melhor opção em relação à primeira derivada, já que pode amplificar os ruídos experimentais. Em casos onde os dados originais não são muito precisos, a primeira derivada pode ser a opção mais confiável."
      ],
      "metadata": {
        "id": "NX5iTP97P6Di"
      }
    },
    {
      "cell_type": "markdown",
      "source": [
        "## Bibliotecas utilizadas\n",
        "\n",
        "### Mollmass\n",
        "\n",
        "O Molmass é uma biblioteca Python e aplicação web que calcula a massa molecular, composição elementar e espectro de distribuição de massa de uma molécula com base em sua fórmula química ou pesos relativos dos elementos. Ele usa a composição isotópica dos elementos, mas não considera a deficiência de massa devido a ligações químicas. A biblioteca também possui uma base de dados de propriedades físico-químicas dos elementos químicos.\n",
        "\n",
        "### Pandas\n",
        "O Pandas é uma ferramenta de código aberto para análise e manipulação de dados, rápida, poderosa, flexível e fácil de usar, construída com base na linguagem de programação Python.\n",
        "\n",
        "### Matplotlib\n",
        "Matplotlib é uma biblioteca abrangente para criar visualizações estáticas, animadas e interativas em Python. Matplotlib torna as tarefas simples fáceis e as tarefas difíceis possíveis. Crie gráficos de alta qualidade para publicação.\n",
        "Faça figuras interativas com zoom, pan e atualizações. Personalize o estilo visual e o layout. Exporte para vários formatos de arquivo.\n",
        "Incorpore em JupyterLab e Interfaces Gráficas. Utilize uma ampla variedade de pacotes de terceiros construídos sobre o Matplotlib.\n",
        "\n",
        "### NumPy\n",
        "O NumPy é a biblioteca essencial para computação científica em Python. Ele oferece um objeto de matriz multidimensional, objetos relacionados e muitas funções para operações rápidas em arrays, incluindo matemáticas, lógicas, manipulação de forma, ordenação, seleção, E/S, transformadas de Fourier discretas, álgebra linear básica, operações estatísticas básicas, simulação aleatória e muito mais."
      ],
      "metadata": {
        "id": "ahYWtgfXVojj"
      }
    },
    {
      "cell_type": "markdown",
      "source": [
        "## Instalando as bibliotecas necessárias"
      ],
      "metadata": {
        "id": "Hcz1w_QfYQDV"
      }
    },
    {
      "cell_type": "code",
      "source": [
        "# instaalação molmass\n",
        "!pip install molmass"
      ],
      "metadata": {
        "colab": {
          "base_uri": "https://localhost:8080/"
        },
        "id": "aGgDrqp1Guwn",
        "outputId": "2de30ab4-fd73-4ef8-8cd8-6b7f4db241a1"
      },
      "execution_count": 48,
      "outputs": [
        {
          "output_type": "stream",
          "name": "stdout",
          "text": [
            "Collecting molmass\n",
            "  Downloading molmass-2023.8.30-py3-none-any.whl (74 kB)\n",
            "\u001b[?25l     \u001b[90m━━━━━━━━━━━━━━━━━━━━━━━━━━━━━━━━━━━━━━━━\u001b[0m \u001b[32m0.0/74.7 kB\u001b[0m \u001b[31m?\u001b[0m eta \u001b[36m-:--:--\u001b[0m\r\u001b[2K     \u001b[91m━━━━━━━━━━━━━━━━━━━━━━━━━━━━━━━━━━━━━━\u001b[0m\u001b[90m╺\u001b[0m\u001b[90m━\u001b[0m \u001b[32m71.7/74.7 kB\u001b[0m \u001b[31m2.2 MB/s\u001b[0m eta \u001b[36m0:00:01\u001b[0m\r\u001b[2K     \u001b[90m━━━━━━━━━━━━━━━━━━━━━━━━━━━━━━━━━━━━━━━━\u001b[0m \u001b[32m74.7/74.7 kB\u001b[0m \u001b[31m1.8 MB/s\u001b[0m eta \u001b[36m0:00:00\u001b[0m\n",
            "\u001b[?25hInstalling collected packages: molmass\n",
            "Successfully installed molmass-2023.8.30\n"
          ]
        }
      ]
    },
    {
      "cell_type": "code",
      "source": [
        "# instalação pandas\n",
        "!pip install pandas"
      ],
      "metadata": {
        "colab": {
          "base_uri": "https://localhost:8080/"
        },
        "id": "AQqn8IXX_lz9",
        "outputId": "2c7fc9d2-a3b8-4d8d-ddc0-b0b984f27286"
      },
      "execution_count": 43,
      "outputs": [
        {
          "output_type": "stream",
          "name": "stdout",
          "text": [
            "Requirement already satisfied: pandas in /usr/local/lib/python3.10/dist-packages (1.5.3)\n",
            "Requirement already satisfied: python-dateutil>=2.8.1 in /usr/local/lib/python3.10/dist-packages (from pandas) (2.8.2)\n",
            "Requirement already satisfied: pytz>=2020.1 in /usr/local/lib/python3.10/dist-packages (from pandas) (2023.3.post1)\n",
            "Requirement already satisfied: numpy>=1.21.0 in /usr/local/lib/python3.10/dist-packages (from pandas) (1.23.5)\n",
            "Requirement already satisfied: six>=1.5 in /usr/local/lib/python3.10/dist-packages (from python-dateutil>=2.8.1->pandas) (1.16.0)\n"
          ]
        }
      ]
    },
    {
      "cell_type": "code",
      "execution_count": null,
      "metadata": {
        "colab": {
          "base_uri": "https://localhost:8080/"
        },
        "id": "vce2DXJZ6f9e",
        "outputId": "3ffe6bdd-a433-4fb9-8d67-9719c619127d"
      },
      "outputs": [
        {
          "output_type": "stream",
          "name": "stdout",
          "text": [
            "Requirement already satisfied: matplotlib in /usr/local/lib/python3.10/dist-packages (3.7.1)\n",
            "Requirement already satisfied: contourpy>=1.0.1 in /usr/local/lib/python3.10/dist-packages (from matplotlib) (1.1.1)\n",
            "Requirement already satisfied: cycler>=0.10 in /usr/local/lib/python3.10/dist-packages (from matplotlib) (0.12.0)\n",
            "Requirement already satisfied: fonttools>=4.22.0 in /usr/local/lib/python3.10/dist-packages (from matplotlib) (4.43.1)\n",
            "Requirement already satisfied: kiwisolver>=1.0.1 in /usr/local/lib/python3.10/dist-packages (from matplotlib) (1.4.5)\n",
            "Requirement already satisfied: numpy>=1.20 in /usr/local/lib/python3.10/dist-packages (from matplotlib) (1.23.5)\n",
            "Requirement already satisfied: packaging>=20.0 in /usr/local/lib/python3.10/dist-packages (from matplotlib) (23.2)\n",
            "Requirement already satisfied: pillow>=6.2.0 in /usr/local/lib/python3.10/dist-packages (from matplotlib) (9.4.0)\n",
            "Requirement already satisfied: pyparsing>=2.3.1 in /usr/local/lib/python3.10/dist-packages (from matplotlib) (3.1.1)\n",
            "Requirement already satisfied: python-dateutil>=2.7 in /usr/local/lib/python3.10/dist-packages (from matplotlib) (2.8.2)\n",
            "Requirement already satisfied: six>=1.5 in /usr/local/lib/python3.10/dist-packages (from python-dateutil>=2.7->matplotlib) (1.16.0)\n"
          ]
        }
      ],
      "source": [
        "#instalação matplotlib\n",
        "pip install matplotlib"
      ]
    },
    {
      "cell_type": "code",
      "source": [
        "#instalação numpy\n",
        "pip install numpy"
      ],
      "metadata": {
        "colab": {
          "base_uri": "https://localhost:8080/"
        },
        "id": "8suAklulRMsE",
        "outputId": "8dd2894e-ebeb-458e-fee1-c0c400c64b03"
      },
      "execution_count": null,
      "outputs": [
        {
          "output_type": "stream",
          "name": "stdout",
          "text": [
            "Requirement already satisfied: numpy in /usr/local/lib/python3.10/dist-packages (1.23.5)\n"
          ]
        }
      ]
    },
    {
      "cell_type": "code",
      "source": [
        "# importando bilbiotecas que serão utilizadas\n",
        "import numpy as np\n",
        "import pandas as pd\n",
        "import matplotlib.pyplot as plt\n",
        "import numpy as np\n",
        "from molmass import Formula"
      ],
      "metadata": {
        "id": "NAiIkHHFRUEQ"
      },
      "execution_count": 49,
      "outputs": []
    },
    {
      "cell_type": "code",
      "source": [
        "# importando arquivo com os dados coletados experimentalmente de volume titulado e pH\n",
        "from google.colab import files\n",
        "uploaded = files.upload()"
      ],
      "metadata": {
        "colab": {
          "base_uri": "https://localhost:8080/",
          "height": 73
        },
        "id": "4ExRxrufCUGu",
        "outputId": "82f2b09e-bfb2-4b24-e2eb-1621285d283a"
      },
      "execution_count": 2,
      "outputs": [
        {
          "output_type": "display_data",
          "data": {
            "text/plain": [
              "<IPython.core.display.HTML object>"
            ],
            "text/html": [
              "\n",
              "     <input type=\"file\" id=\"files-9a0a345c-6419-4d8c-b587-64066f7656d0\" name=\"files[]\" multiple disabled\n",
              "        style=\"border:none\" />\n",
              "     <output id=\"result-9a0a345c-6419-4d8c-b587-64066f7656d0\">\n",
              "      Upload widget is only available when the cell has been executed in the\n",
              "      current browser session. Please rerun this cell to enable.\n",
              "      </output>\n",
              "      <script>// Copyright 2017 Google LLC\n",
              "//\n",
              "// Licensed under the Apache License, Version 2.0 (the \"License\");\n",
              "// you may not use this file except in compliance with the License.\n",
              "// You may obtain a copy of the License at\n",
              "//\n",
              "//      http://www.apache.org/licenses/LICENSE-2.0\n",
              "//\n",
              "// Unless required by applicable law or agreed to in writing, software\n",
              "// distributed under the License is distributed on an \"AS IS\" BASIS,\n",
              "// WITHOUT WARRANTIES OR CONDITIONS OF ANY KIND, either express or implied.\n",
              "// See the License for the specific language governing permissions and\n",
              "// limitations under the License.\n",
              "\n",
              "/**\n",
              " * @fileoverview Helpers for google.colab Python module.\n",
              " */\n",
              "(function(scope) {\n",
              "function span(text, styleAttributes = {}) {\n",
              "  const element = document.createElement('span');\n",
              "  element.textContent = text;\n",
              "  for (const key of Object.keys(styleAttributes)) {\n",
              "    element.style[key] = styleAttributes[key];\n",
              "  }\n",
              "  return element;\n",
              "}\n",
              "\n",
              "// Max number of bytes which will be uploaded at a time.\n",
              "const MAX_PAYLOAD_SIZE = 100 * 1024;\n",
              "\n",
              "function _uploadFiles(inputId, outputId) {\n",
              "  const steps = uploadFilesStep(inputId, outputId);\n",
              "  const outputElement = document.getElementById(outputId);\n",
              "  // Cache steps on the outputElement to make it available for the next call\n",
              "  // to uploadFilesContinue from Python.\n",
              "  outputElement.steps = steps;\n",
              "\n",
              "  return _uploadFilesContinue(outputId);\n",
              "}\n",
              "\n",
              "// This is roughly an async generator (not supported in the browser yet),\n",
              "// where there are multiple asynchronous steps and the Python side is going\n",
              "// to poll for completion of each step.\n",
              "// This uses a Promise to block the python side on completion of each step,\n",
              "// then passes the result of the previous step as the input to the next step.\n",
              "function _uploadFilesContinue(outputId) {\n",
              "  const outputElement = document.getElementById(outputId);\n",
              "  const steps = outputElement.steps;\n",
              "\n",
              "  const next = steps.next(outputElement.lastPromiseValue);\n",
              "  return Promise.resolve(next.value.promise).then((value) => {\n",
              "    // Cache the last promise value to make it available to the next\n",
              "    // step of the generator.\n",
              "    outputElement.lastPromiseValue = value;\n",
              "    return next.value.response;\n",
              "  });\n",
              "}\n",
              "\n",
              "/**\n",
              " * Generator function which is called between each async step of the upload\n",
              " * process.\n",
              " * @param {string} inputId Element ID of the input file picker element.\n",
              " * @param {string} outputId Element ID of the output display.\n",
              " * @return {!Iterable<!Object>} Iterable of next steps.\n",
              " */\n",
              "function* uploadFilesStep(inputId, outputId) {\n",
              "  const inputElement = document.getElementById(inputId);\n",
              "  inputElement.disabled = false;\n",
              "\n",
              "  const outputElement = document.getElementById(outputId);\n",
              "  outputElement.innerHTML = '';\n",
              "\n",
              "  const pickedPromise = new Promise((resolve) => {\n",
              "    inputElement.addEventListener('change', (e) => {\n",
              "      resolve(e.target.files);\n",
              "    });\n",
              "  });\n",
              "\n",
              "  const cancel = document.createElement('button');\n",
              "  inputElement.parentElement.appendChild(cancel);\n",
              "  cancel.textContent = 'Cancel upload';\n",
              "  const cancelPromise = new Promise((resolve) => {\n",
              "    cancel.onclick = () => {\n",
              "      resolve(null);\n",
              "    };\n",
              "  });\n",
              "\n",
              "  // Wait for the user to pick the files.\n",
              "  const files = yield {\n",
              "    promise: Promise.race([pickedPromise, cancelPromise]),\n",
              "    response: {\n",
              "      action: 'starting',\n",
              "    }\n",
              "  };\n",
              "\n",
              "  cancel.remove();\n",
              "\n",
              "  // Disable the input element since further picks are not allowed.\n",
              "  inputElement.disabled = true;\n",
              "\n",
              "  if (!files) {\n",
              "    return {\n",
              "      response: {\n",
              "        action: 'complete',\n",
              "      }\n",
              "    };\n",
              "  }\n",
              "\n",
              "  for (const file of files) {\n",
              "    const li = document.createElement('li');\n",
              "    li.append(span(file.name, {fontWeight: 'bold'}));\n",
              "    li.append(span(\n",
              "        `(${file.type || 'n/a'}) - ${file.size} bytes, ` +\n",
              "        `last modified: ${\n",
              "            file.lastModifiedDate ? file.lastModifiedDate.toLocaleDateString() :\n",
              "                                    'n/a'} - `));\n",
              "    const percent = span('0% done');\n",
              "    li.appendChild(percent);\n",
              "\n",
              "    outputElement.appendChild(li);\n",
              "\n",
              "    const fileDataPromise = new Promise((resolve) => {\n",
              "      const reader = new FileReader();\n",
              "      reader.onload = (e) => {\n",
              "        resolve(e.target.result);\n",
              "      };\n",
              "      reader.readAsArrayBuffer(file);\n",
              "    });\n",
              "    // Wait for the data to be ready.\n",
              "    let fileData = yield {\n",
              "      promise: fileDataPromise,\n",
              "      response: {\n",
              "        action: 'continue',\n",
              "      }\n",
              "    };\n",
              "\n",
              "    // Use a chunked sending to avoid message size limits. See b/62115660.\n",
              "    let position = 0;\n",
              "    do {\n",
              "      const length = Math.min(fileData.byteLength - position, MAX_PAYLOAD_SIZE);\n",
              "      const chunk = new Uint8Array(fileData, position, length);\n",
              "      position += length;\n",
              "\n",
              "      const base64 = btoa(String.fromCharCode.apply(null, chunk));\n",
              "      yield {\n",
              "        response: {\n",
              "          action: 'append',\n",
              "          file: file.name,\n",
              "          data: base64,\n",
              "        },\n",
              "      };\n",
              "\n",
              "      let percentDone = fileData.byteLength === 0 ?\n",
              "          100 :\n",
              "          Math.round((position / fileData.byteLength) * 100);\n",
              "      percent.textContent = `${percentDone}% done`;\n",
              "\n",
              "    } while (position < fileData.byteLength);\n",
              "  }\n",
              "\n",
              "  // All done.\n",
              "  yield {\n",
              "    response: {\n",
              "      action: 'complete',\n",
              "    }\n",
              "  };\n",
              "}\n",
              "\n",
              "scope.google = scope.google || {};\n",
              "scope.google.colab = scope.google.colab || {};\n",
              "scope.google.colab._files = {\n",
              "  _uploadFiles,\n",
              "  _uploadFilesContinue,\n",
              "};\n",
              "})(self);\n",
              "</script> "
            ]
          },
          "metadata": {}
        },
        {
          "output_type": "stream",
          "name": "stdout",
          "text": [
            "Saving Potenciometria.xlsx to Potenciometria.xlsx\n"
          ]
        }
      ]
    },
    {
      "cell_type": "code",
      "source": [
        "# obtendo informações das substâncias da análise?\n",
        "padrao = input(\"Qual o padrão utilizado na análise? \")\n",
        "padrao_conc = float(input(\"Qual a concentração do padrão utilizado na análise? \"))\n",
        "analito = input(\"Qual o seu analito? \")\n",
        "analito_m = float(input(\"Qual a massa do analito antes da análise? \"))"
      ],
      "metadata": {
        "colab": {
          "base_uri": "https://localhost:8080/"
        },
        "id": "GGV-MqN5BDCS",
        "outputId": "502c181a-d44a-447a-a4bf-8cdad129df11"
      },
      "execution_count": 60,
      "outputs": [
        {
          "name": "stdout",
          "output_type": "stream",
          "text": [
            "Qual o padrão utilizado na análise? NaOH\n",
            "Qual a concentração do padrão utilizado na análise? 0.94066\n",
            "Qual o seu analito? C9H8O4\n",
            "Qual a massa do analito antes da análise? 404.6\n"
          ]
        }
      ]
    },
    {
      "cell_type": "code",
      "source": [
        "# Visualizando os primeiro arquivos do DataFramae\n",
        "nome_arquivo = input(\"Qual o nome da planilha com a base de dados importada? \")\n",
        "nome_arquivo = nome_arquivo+'.xlsx'\n",
        "\n",
        "# Abra o DataFrame importado\n",
        "df = pd.read_excel(nome_arquivo)\n",
        "\n",
        "# Visualize os primeiros registros do DataFrame\n",
        "df.head()"
      ],
      "metadata": {
        "colab": {
          "base_uri": "https://localhost:8080/",
          "height": 223
        },
        "id": "iaLiBoEvAGnO",
        "outputId": "8d083e51-be60-4f1a-a60c-4ceb45fbd2ce"
      },
      "execution_count": 61,
      "outputs": [
        {
          "name": "stdout",
          "output_type": "stream",
          "text": [
            "Qual o nome da planilha com a base de dados importada? Potenciometria\n"
          ]
        },
        {
          "output_type": "execute_result",
          "data": {
            "text/plain": [
              "   V NaOH (mL)    pH\n",
              "0         17.0  4.98\n",
              "1         18.0  6.01\n",
              "2         18.2  6.10\n",
              "3         18.4  6.22\n",
              "4         18.6  6.39"
            ],
            "text/html": [
              "\n",
              "  <div id=\"df-9f8a4ec1-e00a-4188-b469-b494b3977882\" class=\"colab-df-container\">\n",
              "    <div>\n",
              "<style scoped>\n",
              "    .dataframe tbody tr th:only-of-type {\n",
              "        vertical-align: middle;\n",
              "    }\n",
              "\n",
              "    .dataframe tbody tr th {\n",
              "        vertical-align: top;\n",
              "    }\n",
              "\n",
              "    .dataframe thead th {\n",
              "        text-align: right;\n",
              "    }\n",
              "</style>\n",
              "<table border=\"1\" class=\"dataframe\">\n",
              "  <thead>\n",
              "    <tr style=\"text-align: right;\">\n",
              "      <th></th>\n",
              "      <th>V NaOH (mL)</th>\n",
              "      <th>pH</th>\n",
              "    </tr>\n",
              "  </thead>\n",
              "  <tbody>\n",
              "    <tr>\n",
              "      <th>0</th>\n",
              "      <td>17.0</td>\n",
              "      <td>4.98</td>\n",
              "    </tr>\n",
              "    <tr>\n",
              "      <th>1</th>\n",
              "      <td>18.0</td>\n",
              "      <td>6.01</td>\n",
              "    </tr>\n",
              "    <tr>\n",
              "      <th>2</th>\n",
              "      <td>18.2</td>\n",
              "      <td>6.10</td>\n",
              "    </tr>\n",
              "    <tr>\n",
              "      <th>3</th>\n",
              "      <td>18.4</td>\n",
              "      <td>6.22</td>\n",
              "    </tr>\n",
              "    <tr>\n",
              "      <th>4</th>\n",
              "      <td>18.6</td>\n",
              "      <td>6.39</td>\n",
              "    </tr>\n",
              "  </tbody>\n",
              "</table>\n",
              "</div>\n",
              "    <div class=\"colab-df-buttons\">\n",
              "\n",
              "  <div class=\"colab-df-container\">\n",
              "    <button class=\"colab-df-convert\" onclick=\"convertToInteractive('df-9f8a4ec1-e00a-4188-b469-b494b3977882')\"\n",
              "            title=\"Convert this dataframe to an interactive table.\"\n",
              "            style=\"display:none;\">\n",
              "\n",
              "  <svg xmlns=\"http://www.w3.org/2000/svg\" height=\"24px\" viewBox=\"0 -960 960 960\">\n",
              "    <path d=\"M120-120v-720h720v720H120Zm60-500h600v-160H180v160Zm220 220h160v-160H400v160Zm0 220h160v-160H400v160ZM180-400h160v-160H180v160Zm440 0h160v-160H620v160ZM180-180h160v-160H180v160Zm440 0h160v-160H620v160Z\"/>\n",
              "  </svg>\n",
              "    </button>\n",
              "\n",
              "  <style>\n",
              "    .colab-df-container {\n",
              "      display:flex;\n",
              "      gap: 12px;\n",
              "    }\n",
              "\n",
              "    .colab-df-convert {\n",
              "      background-color: #E8F0FE;\n",
              "      border: none;\n",
              "      border-radius: 50%;\n",
              "      cursor: pointer;\n",
              "      display: none;\n",
              "      fill: #1967D2;\n",
              "      height: 32px;\n",
              "      padding: 0 0 0 0;\n",
              "      width: 32px;\n",
              "    }\n",
              "\n",
              "    .colab-df-convert:hover {\n",
              "      background-color: #E2EBFA;\n",
              "      box-shadow: 0px 1px 2px rgba(60, 64, 67, 0.3), 0px 1px 3px 1px rgba(60, 64, 67, 0.15);\n",
              "      fill: #174EA6;\n",
              "    }\n",
              "\n",
              "    .colab-df-buttons div {\n",
              "      margin-bottom: 4px;\n",
              "    }\n",
              "\n",
              "    [theme=dark] .colab-df-convert {\n",
              "      background-color: #3B4455;\n",
              "      fill: #D2E3FC;\n",
              "    }\n",
              "\n",
              "    [theme=dark] .colab-df-convert:hover {\n",
              "      background-color: #434B5C;\n",
              "      box-shadow: 0px 1px 3px 1px rgba(0, 0, 0, 0.15);\n",
              "      filter: drop-shadow(0px 1px 2px rgba(0, 0, 0, 0.3));\n",
              "      fill: #FFFFFF;\n",
              "    }\n",
              "  </style>\n",
              "\n",
              "    <script>\n",
              "      const buttonEl =\n",
              "        document.querySelector('#df-9f8a4ec1-e00a-4188-b469-b494b3977882 button.colab-df-convert');\n",
              "      buttonEl.style.display =\n",
              "        google.colab.kernel.accessAllowed ? 'block' : 'none';\n",
              "\n",
              "      async function convertToInteractive(key) {\n",
              "        const element = document.querySelector('#df-9f8a4ec1-e00a-4188-b469-b494b3977882');\n",
              "        const dataTable =\n",
              "          await google.colab.kernel.invokeFunction('convertToInteractive',\n",
              "                                                    [key], {});\n",
              "        if (!dataTable) return;\n",
              "\n",
              "        const docLinkHtml = 'Like what you see? Visit the ' +\n",
              "          '<a target=\"_blank\" href=https://colab.research.google.com/notebooks/data_table.ipynb>data table notebook</a>'\n",
              "          + ' to learn more about interactive tables.';\n",
              "        element.innerHTML = '';\n",
              "        dataTable['output_type'] = 'display_data';\n",
              "        await google.colab.output.renderOutput(dataTable, element);\n",
              "        const docLink = document.createElement('div');\n",
              "        docLink.innerHTML = docLinkHtml;\n",
              "        element.appendChild(docLink);\n",
              "      }\n",
              "    </script>\n",
              "  </div>\n",
              "\n",
              "\n",
              "<div id=\"df-6ff6bab5-d9c1-4506-8863-31f397315bad\">\n",
              "  <button class=\"colab-df-quickchart\" onclick=\"quickchart('df-6ff6bab5-d9c1-4506-8863-31f397315bad')\"\n",
              "            title=\"Suggest charts.\"\n",
              "            style=\"display:none;\">\n",
              "\n",
              "<svg xmlns=\"http://www.w3.org/2000/svg\" height=\"24px\"viewBox=\"0 0 24 24\"\n",
              "     width=\"24px\">\n",
              "    <g>\n",
              "        <path d=\"M19 3H5c-1.1 0-2 .9-2 2v14c0 1.1.9 2 2 2h14c1.1 0 2-.9 2-2V5c0-1.1-.9-2-2-2zM9 17H7v-7h2v7zm4 0h-2V7h2v10zm4 0h-2v-4h2v4z\"/>\n",
              "    </g>\n",
              "</svg>\n",
              "  </button>\n",
              "\n",
              "<style>\n",
              "  .colab-df-quickchart {\n",
              "      --bg-color: #E8F0FE;\n",
              "      --fill-color: #1967D2;\n",
              "      --hover-bg-color: #E2EBFA;\n",
              "      --hover-fill-color: #174EA6;\n",
              "      --disabled-fill-color: #AAA;\n",
              "      --disabled-bg-color: #DDD;\n",
              "  }\n",
              "\n",
              "  [theme=dark] .colab-df-quickchart {\n",
              "      --bg-color: #3B4455;\n",
              "      --fill-color: #D2E3FC;\n",
              "      --hover-bg-color: #434B5C;\n",
              "      --hover-fill-color: #FFFFFF;\n",
              "      --disabled-bg-color: #3B4455;\n",
              "      --disabled-fill-color: #666;\n",
              "  }\n",
              "\n",
              "  .colab-df-quickchart {\n",
              "    background-color: var(--bg-color);\n",
              "    border: none;\n",
              "    border-radius: 50%;\n",
              "    cursor: pointer;\n",
              "    display: none;\n",
              "    fill: var(--fill-color);\n",
              "    height: 32px;\n",
              "    padding: 0;\n",
              "    width: 32px;\n",
              "  }\n",
              "\n",
              "  .colab-df-quickchart:hover {\n",
              "    background-color: var(--hover-bg-color);\n",
              "    box-shadow: 0 1px 2px rgba(60, 64, 67, 0.3), 0 1px 3px 1px rgba(60, 64, 67, 0.15);\n",
              "    fill: var(--button-hover-fill-color);\n",
              "  }\n",
              "\n",
              "  .colab-df-quickchart-complete:disabled,\n",
              "  .colab-df-quickchart-complete:disabled:hover {\n",
              "    background-color: var(--disabled-bg-color);\n",
              "    fill: var(--disabled-fill-color);\n",
              "    box-shadow: none;\n",
              "  }\n",
              "\n",
              "  .colab-df-spinner {\n",
              "    border: 2px solid var(--fill-color);\n",
              "    border-color: transparent;\n",
              "    border-bottom-color: var(--fill-color);\n",
              "    animation:\n",
              "      spin 1s steps(1) infinite;\n",
              "  }\n",
              "\n",
              "  @keyframes spin {\n",
              "    0% {\n",
              "      border-color: transparent;\n",
              "      border-bottom-color: var(--fill-color);\n",
              "      border-left-color: var(--fill-color);\n",
              "    }\n",
              "    20% {\n",
              "      border-color: transparent;\n",
              "      border-left-color: var(--fill-color);\n",
              "      border-top-color: var(--fill-color);\n",
              "    }\n",
              "    30% {\n",
              "      border-color: transparent;\n",
              "      border-left-color: var(--fill-color);\n",
              "      border-top-color: var(--fill-color);\n",
              "      border-right-color: var(--fill-color);\n",
              "    }\n",
              "    40% {\n",
              "      border-color: transparent;\n",
              "      border-right-color: var(--fill-color);\n",
              "      border-top-color: var(--fill-color);\n",
              "    }\n",
              "    60% {\n",
              "      border-color: transparent;\n",
              "      border-right-color: var(--fill-color);\n",
              "    }\n",
              "    80% {\n",
              "      border-color: transparent;\n",
              "      border-right-color: var(--fill-color);\n",
              "      border-bottom-color: var(--fill-color);\n",
              "    }\n",
              "    90% {\n",
              "      border-color: transparent;\n",
              "      border-bottom-color: var(--fill-color);\n",
              "    }\n",
              "  }\n",
              "</style>\n",
              "\n",
              "  <script>\n",
              "    async function quickchart(key) {\n",
              "      const quickchartButtonEl =\n",
              "        document.querySelector('#' + key + ' button');\n",
              "      quickchartButtonEl.disabled = true;  // To prevent multiple clicks.\n",
              "      quickchartButtonEl.classList.add('colab-df-spinner');\n",
              "      try {\n",
              "        const charts = await google.colab.kernel.invokeFunction(\n",
              "            'suggestCharts', [key], {});\n",
              "      } catch (error) {\n",
              "        console.error('Error during call to suggestCharts:', error);\n",
              "      }\n",
              "      quickchartButtonEl.classList.remove('colab-df-spinner');\n",
              "      quickchartButtonEl.classList.add('colab-df-quickchart-complete');\n",
              "    }\n",
              "    (() => {\n",
              "      let quickchartButtonEl =\n",
              "        document.querySelector('#df-6ff6bab5-d9c1-4506-8863-31f397315bad button');\n",
              "      quickchartButtonEl.style.display =\n",
              "        google.colab.kernel.accessAllowed ? 'block' : 'none';\n",
              "    })();\n",
              "  </script>\n",
              "</div>\n",
              "    </div>\n",
              "  </div>\n"
            ]
          },
          "metadata": {},
          "execution_count": 61
        }
      ]
    },
    {
      "cell_type": "code",
      "source": [
        "# Criando o gráfico mL x pH\n",
        "coluna_x = df.columns[0]\n",
        "coluna_y = df.columns[1]\n",
        "\n",
        "plt.figure(figsize=(10, 6))\n",
        "plt.plot(df[coluna_x], df[coluna_y], marker='o', linestyle='-', color='b', markersize=6)\n",
        "plt.title('Titulação Potenciométrica')\n",
        "plt.xlabel(f'mL de {padrao}')\n",
        "plt.ylabel('pH')\n",
        "plt.grid(True)\n",
        "\n",
        "# Exibindo o gráfico\n",
        "plt.show()\n",
        "\n",
        "# Adicionando uma nova coluna 'Vm' calculada como a média de 'mL' e 'pH'\n",
        "for i in range(1, len(df)):\n",
        "    df.loc[i, \"Vm\"] = (df.loc[i, coluna_x] + df.loc[i-1, coluna_x]) / 2\n",
        "\n",
        "# Adicionando uma nova coluna 'ΔpH/ΔV' calculada como a primeira derivada de pH e V'\n",
        "for i in range(2, len(df)):\n",
        "    df.loc[i, \"ΔpH/ΔV\"] = (df.loc[i, coluna_y] - df.loc[i-1, coluna_y]) / (df.loc[i, coluna_x] - df.loc[i-1, coluna_x])\n",
        "\n",
        "# Adicionando uma nova coluna 'V'' calculada como a média de 'Vm'\n",
        "for i in range(3, len(df)):\n",
        "    df.loc[i, \"V',\"] = (df.loc[i, \"Vm\"] + df.loc[i-1, \"Vm\"]) / 2\n",
        "\n",
        "# Adicionando uma nova coluna 'Δ2pH/ΔV2' calculada como a segunda derivada de pH e V'\n",
        "for i in range(4, len(df)):\n",
        "    df.loc[i, \"Δ2pH/ΔV2\"] = (df.loc[i, \"ΔpH/ΔV\"] - df.loc[i-1, \"ΔpH/ΔV\"]) / (df.loc[i, \"Vm\"] - df.loc[i-1, \"Vm\"])\n",
        "\n",
        "threshold = 0.1\n",
        "df_high = df[df[\"Δ2pH/ΔV2\"] > threshold]\n",
        "\n",
        "# Exibindo o DataFrame com a nova coluna 'Vm'\n",
        "print(df)\n",
        "\n",
        "#Exibindo o gráfico da primeira derivada\n",
        "plt.figure(figsize=(10, 6))\n",
        "plt.plot(df[coluna_x], df['ΔpH/ΔV'], marker='o', linestyle='-', color='b', markersize=6)\n",
        "plt.title('Primeira derivada (ΔpH/ΔV)')\n",
        "plt.xlabel(f'mL de {padrao}')\n",
        "plt.ylabel('pH')\n",
        "plt.grid(True)\n",
        "\n",
        "plt.show()\n",
        "\n",
        "#Exibindo o gráfico da segunda derivada\n",
        "plt.figure(figsize=(10, 6))\n",
        "plt.plot(df[coluna_x], df['Δ2pH/ΔV2'], marker='o', linestyle='-', color='b', markersize=6)\n",
        "plt.title('Segunda derivada (Δ2pH/ΔV2)')\n",
        "plt.xlabel(f'mL de {padrao}')\n",
        "plt.ylabel('pH')\n",
        "plt.grid(True)\n",
        "\n",
        "plt.show()\n"
      ],
      "metadata": {
        "colab": {
          "base_uri": "https://localhost:8080/",
          "height": 1000
        },
        "id": "Z9l9lI-G_Acv",
        "outputId": "63a28b35-23ec-4617-9a31-8fd8b1855d5c"
      },
      "execution_count": 63,
      "outputs": [
        {
          "output_type": "display_data",
          "data": {
            "text/plain": [
              "<Figure size 1000x600 with 1 Axes>"
            ],
            "image/png": "[encoded data removed]"
          },
          "metadata": {}
        },
        {
          "output_type": "stream",
          "name": "stdout",
          "text": [
            "    V NaOH (mL)     pH    Vm  ΔpH/ΔV   V',   Δ2pH/ΔV2\n",
            "0          17.0   4.98   NaN     NaN   NaN        NaN\n",
            "1          18.0   6.01  17.5     NaN   NaN        NaN\n",
            "2          18.2   6.10  18.1    0.45   NaN        NaN\n",
            "3          18.4   6.22  18.3    0.60  18.2        NaN\n",
            "4          18.6   6.39  18.5    0.85  18.4   1.250000\n",
            "5          18.8   6.66  18.7    1.35  18.6   2.500000\n",
            "6          19.0   7.07  18.9    2.05  18.8   3.500000\n",
            "7          19.2   7.50  19.1    2.15  19.0   0.500000\n",
            "8          19.4  10.17  19.3   13.35  19.2  56.000000\n",
            "9          19.6  10.80  19.5    3.15  19.4 -51.000000\n",
            "10         19.8  10.98  19.7    0.90  19.6 -11.250000\n",
            "11         20.0  11.19  19.9    1.05  19.8   0.750000\n",
            "12         21.0  11.32  20.5    0.13  20.2  -1.533333\n",
            "13         22.0  11.46  21.5    0.14  21.0   0.010000\n"
          ]
        },
        {
          "output_type": "display_data",
          "data": {
            "text/plain": [
              "<Figure size 1000x600 with 1 Axes>"
            ],
            "image/png": "[encoded data removed]"
          },
          "metadata": {}
        },
        {
          "output_type": "display_data",
          "data": {
            "text/plain": [
              "<Figure size 1000x600 with 1 Axes>"
            ],
            "image/png": "[encoded data removed]"
          },
          "metadata": {}
        }
      ]
    },
    {
      "cell_type": "code",
      "source": [
        "# destacando valores máximos no novo DataFrame\n",
        "def highlight_max(s):\n",
        "    is_max = s == s.max()\n",
        "    return ['background-color: yellow' if v else '' for v in is_max]\n",
        "\n",
        "df.style.apply(highlight_max)"
      ],
      "metadata": {
        "colab": {
          "base_uri": "https://localhost:8080/",
          "height": 488
        },
        "id": "SDDLXAf6a1pG",
        "outputId": "969e726d-e4fc-4dfb-c3da-25c519b87503"
      },
      "execution_count": 64,
      "outputs": [
        {
          "output_type": "execute_result",
          "data": {
            "text/plain": [
              "<pandas.io.formats.style.Styler at 0x7e0a6ed75c90>"
            ],
            "text/html": [
              "<style type=\"text/css\">\n",
              "#T_0f863_row8_col3, #T_0f863_row8_col5, #T_0f863_row13_col0, #T_0f863_row13_col1, #T_0f863_row13_col2, #T_0f863_row13_col4 {\n",
              "  background-color: yellow;\n",
              "}\n",
              "</style>\n",
              "<table id=\"T_0f863\" class=\"dataframe\">\n",
              "  <thead>\n",
              "    <tr>\n",
              "      <th class=\"blank level0\" >&nbsp;</th>\n",
              "      <th id=\"T_0f863_level0_col0\" class=\"col_heading level0 col0\" >V NaOH (mL)</th>\n",
              "      <th id=\"T_0f863_level0_col1\" class=\"col_heading level0 col1\" >pH</th>\n",
              "      <th id=\"T_0f863_level0_col2\" class=\"col_heading level0 col2\" >Vm</th>\n",
              "      <th id=\"T_0f863_level0_col3\" class=\"col_heading level0 col3\" >ΔpH/ΔV</th>\n",
              "      <th id=\"T_0f863_level0_col4\" class=\"col_heading level0 col4\" >V',</th>\n",
              "      <th id=\"T_0f863_level0_col5\" class=\"col_heading level0 col5\" >Δ2pH/ΔV2</th>\n",
              "    </tr>\n",
              "  </thead>\n",
              "  <tbody>\n",
              "    <tr>\n",
              "      <th id=\"T_0f863_level0_row0\" class=\"row_heading level0 row0\" >0</th>\n",
              "      <td id=\"T_0f863_row0_col0\" class=\"data row0 col0\" >17.000000</td>\n",
              "      <td id=\"T_0f863_row0_col1\" class=\"data row0 col1\" >4.980000</td>\n",
              "      <td id=\"T_0f863_row0_col2\" class=\"data row0 col2\" >nan</td>\n",
              "      <td id=\"T_0f863_row0_col3\" class=\"data row0 col3\" >nan</td>\n",
              "      <td id=\"T_0f863_row0_col4\" class=\"data row0 col4\" >nan</td>\n",
              "      <td id=\"T_0f863_row0_col5\" class=\"data row0 col5\" >nan</td>\n",
              "    </tr>\n",
              "    <tr>\n",
              "      <th id=\"T_0f863_level0_row1\" class=\"row_heading level0 row1\" >1</th>\n",
              "      <td id=\"T_0f863_row1_col0\" class=\"data row1 col0\" >18.000000</td>\n",
              "      <td id=\"T_0f863_row1_col1\" class=\"data row1 col1\" >6.010000</td>\n",
              "      <td id=\"T_0f863_row1_col2\" class=\"data row1 col2\" >17.500000</td>\n",
              "      <td id=\"T_0f863_row1_col3\" class=\"data row1 col3\" >nan</td>\n",
              "      <td id=\"T_0f863_row1_col4\" class=\"data row1 col4\" >nan</td>\n",
              "      <td id=\"T_0f863_row1_col5\" class=\"data row1 col5\" >nan</td>\n",
              "    </tr>\n",
              "    <tr>\n",
              "      <th id=\"T_0f863_level0_row2\" class=\"row_heading level0 row2\" >2</th>\n",
              "      <td id=\"T_0f863_row2_col0\" class=\"data row2 col0\" >18.200000</td>\n",
              "      <td id=\"T_0f863_row2_col1\" class=\"data row2 col1\" >6.100000</td>\n",
              "      <td id=\"T_0f863_row2_col2\" class=\"data row2 col2\" >18.100000</td>\n",
              "      <td id=\"T_0f863_row2_col3\" class=\"data row2 col3\" >0.450000</td>\n",
              "      <td id=\"T_0f863_row2_col4\" class=\"data row2 col4\" >nan</td>\n",
              "      <td id=\"T_0f863_row2_col5\" class=\"data row2 col5\" >nan</td>\n",
              "    </tr>\n",
              "    <tr>\n",
              "      <th id=\"T_0f863_level0_row3\" class=\"row_heading level0 row3\" >3</th>\n",
              "      <td id=\"T_0f863_row3_col0\" class=\"data row3 col0\" >18.400000</td>\n",
              "      <td id=\"T_0f863_row3_col1\" class=\"data row3 col1\" >6.220000</td>\n",
              "      <td id=\"T_0f863_row3_col2\" class=\"data row3 col2\" >18.300000</td>\n",
              "      <td id=\"T_0f863_row3_col3\" class=\"data row3 col3\" >0.600000</td>\n",
              "      <td id=\"T_0f863_row3_col4\" class=\"data row3 col4\" >18.200000</td>\n",
              "      <td id=\"T_0f863_row3_col5\" class=\"data row3 col5\" >nan</td>\n",
              "    </tr>\n",
              "    <tr>\n",
              "      <th id=\"T_0f863_level0_row4\" class=\"row_heading level0 row4\" >4</th>\n",
              "      <td id=\"T_0f863_row4_col0\" class=\"data row4 col0\" >18.600000</td>\n",
              "      <td id=\"T_0f863_row4_col1\" class=\"data row4 col1\" >6.390000</td>\n",
              "      <td id=\"T_0f863_row4_col2\" class=\"data row4 col2\" >18.500000</td>\n",
              "      <td id=\"T_0f863_row4_col3\" class=\"data row4 col3\" >0.850000</td>\n",
              "      <td id=\"T_0f863_row4_col4\" class=\"data row4 col4\" >18.400000</td>\n",
              "      <td id=\"T_0f863_row4_col5\" class=\"data row4 col5\" >1.250000</td>\n",
              "    </tr>\n",
              "    <tr>\n",
              "      <th id=\"T_0f863_level0_row5\" class=\"row_heading level0 row5\" >5</th>\n",
              "      <td id=\"T_0f863_row5_col0\" class=\"data row5 col0\" >18.800000</td>\n",
              "      <td id=\"T_0f863_row5_col1\" class=\"data row5 col1\" >6.660000</td>\n",
              "      <td id=\"T_0f863_row5_col2\" class=\"data row5 col2\" >18.700000</td>\n",
              "      <td id=\"T_0f863_row5_col3\" class=\"data row5 col3\" >1.350000</td>\n",
              "      <td id=\"T_0f863_row5_col4\" class=\"data row5 col4\" >18.600000</td>\n",
              "      <td id=\"T_0f863_row5_col5\" class=\"data row5 col5\" >2.500000</td>\n",
              "    </tr>\n",
              "    <tr>\n",
              "      <th id=\"T_0f863_level0_row6\" class=\"row_heading level0 row6\" >6</th>\n",
              "      <td id=\"T_0f863_row6_col0\" class=\"data row6 col0\" >19.000000</td>\n",
              "      <td id=\"T_0f863_row6_col1\" class=\"data row6 col1\" >7.070000</td>\n",
              "      <td id=\"T_0f863_row6_col2\" class=\"data row6 col2\" >18.900000</td>\n",
              "      <td id=\"T_0f863_row6_col3\" class=\"data row6 col3\" >2.050000</td>\n",
              "      <td id=\"T_0f863_row6_col4\" class=\"data row6 col4\" >18.800000</td>\n",
              "      <td id=\"T_0f863_row6_col5\" class=\"data row6 col5\" >3.500000</td>\n",
              "    </tr>\n",
              "    <tr>\n",
              "      <th id=\"T_0f863_level0_row7\" class=\"row_heading level0 row7\" >7</th>\n",
              "      <td id=\"T_0f863_row7_col0\" class=\"data row7 col0\" >19.200000</td>\n",
              "      <td id=\"T_0f863_row7_col1\" class=\"data row7 col1\" >7.500000</td>\n",
              "      <td id=\"T_0f863_row7_col2\" class=\"data row7 col2\" >19.100000</td>\n",
              "      <td id=\"T_0f863_row7_col3\" class=\"data row7 col3\" >2.150000</td>\n",
              "      <td id=\"T_0f863_row7_col4\" class=\"data row7 col4\" >19.000000</td>\n",
              "      <td id=\"T_0f863_row7_col5\" class=\"data row7 col5\" >0.500000</td>\n",
              "    </tr>\n",
              "    <tr>\n",
              "      <th id=\"T_0f863_level0_row8\" class=\"row_heading level0 row8\" >8</th>\n",
              "      <td id=\"T_0f863_row8_col0\" class=\"data row8 col0\" >19.400000</td>\n",
              "      <td id=\"T_0f863_row8_col1\" class=\"data row8 col1\" >10.170000</td>\n",
              "      <td id=\"T_0f863_row8_col2\" class=\"data row8 col2\" >19.300000</td>\n",
              "      <td id=\"T_0f863_row8_col3\" class=\"data row8 col3\" >13.350000</td>\n",
              "      <td id=\"T_0f863_row8_col4\" class=\"data row8 col4\" >19.200000</td>\n",
              "      <td id=\"T_0f863_row8_col5\" class=\"data row8 col5\" >56.000000</td>\n",
              "    </tr>\n",
              "    <tr>\n",
              "      <th id=\"T_0f863_level0_row9\" class=\"row_heading level0 row9\" >9</th>\n",
              "      <td id=\"T_0f863_row9_col0\" class=\"data row9 col0\" >19.600000</td>\n",
              "      <td id=\"T_0f863_row9_col1\" class=\"data row9 col1\" >10.800000</td>\n",
              "      <td id=\"T_0f863_row9_col2\" class=\"data row9 col2\" >19.500000</td>\n",
              "      <td id=\"T_0f863_row9_col3\" class=\"data row9 col3\" >3.150000</td>\n",
              "      <td id=\"T_0f863_row9_col4\" class=\"data row9 col4\" >19.400000</td>\n",
              "      <td id=\"T_0f863_row9_col5\" class=\"data row9 col5\" >-51.000000</td>\n",
              "    </tr>\n",
              "    <tr>\n",
              "      <th id=\"T_0f863_level0_row10\" class=\"row_heading level0 row10\" >10</th>\n",
              "      <td id=\"T_0f863_row10_col0\" class=\"data row10 col0\" >19.800000</td>\n",
              "      <td id=\"T_0f863_row10_col1\" class=\"data row10 col1\" >10.980000</td>\n",
              "      <td id=\"T_0f863_row10_col2\" class=\"data row10 col2\" >19.700000</td>\n",
              "      <td id=\"T_0f863_row10_col3\" class=\"data row10 col3\" >0.900000</td>\n",
              "      <td id=\"T_0f863_row10_col4\" class=\"data row10 col4\" >19.600000</td>\n",
              "      <td id=\"T_0f863_row10_col5\" class=\"data row10 col5\" >-11.250000</td>\n",
              "    </tr>\n",
              "    <tr>\n",
              "      <th id=\"T_0f863_level0_row11\" class=\"row_heading level0 row11\" >11</th>\n",
              "      <td id=\"T_0f863_row11_col0\" class=\"data row11 col0\" >20.000000</td>\n",
              "      <td id=\"T_0f863_row11_col1\" class=\"data row11 col1\" >11.190000</td>\n",
              "      <td id=\"T_0f863_row11_col2\" class=\"data row11 col2\" >19.900000</td>\n",
              "      <td id=\"T_0f863_row11_col3\" class=\"data row11 col3\" >1.050000</td>\n",
              "      <td id=\"T_0f863_row11_col4\" class=\"data row11 col4\" >19.800000</td>\n",
              "      <td id=\"T_0f863_row11_col5\" class=\"data row11 col5\" >0.750000</td>\n",
              "    </tr>\n",
              "    <tr>\n",
              "      <th id=\"T_0f863_level0_row12\" class=\"row_heading level0 row12\" >12</th>\n",
              "      <td id=\"T_0f863_row12_col0\" class=\"data row12 col0\" >21.000000</td>\n",
              "      <td id=\"T_0f863_row12_col1\" class=\"data row12 col1\" >11.320000</td>\n",
              "      <td id=\"T_0f863_row12_col2\" class=\"data row12 col2\" >20.500000</td>\n",
              "      <td id=\"T_0f863_row12_col3\" class=\"data row12 col3\" >0.130000</td>\n",
              "      <td id=\"T_0f863_row12_col4\" class=\"data row12 col4\" >20.200000</td>\n",
              "      <td id=\"T_0f863_row12_col5\" class=\"data row12 col5\" >-1.533333</td>\n",
              "    </tr>\n",
              "    <tr>\n",
              "      <th id=\"T_0f863_level0_row13\" class=\"row_heading level0 row13\" >13</th>\n",
              "      <td id=\"T_0f863_row13_col0\" class=\"data row13 col0\" >22.000000</td>\n",
              "      <td id=\"T_0f863_row13_col1\" class=\"data row13 col1\" >11.460000</td>\n",
              "      <td id=\"T_0f863_row13_col2\" class=\"data row13 col2\" >21.500000</td>\n",
              "      <td id=\"T_0f863_row13_col3\" class=\"data row13 col3\" >0.140000</td>\n",
              "      <td id=\"T_0f863_row13_col4\" class=\"data row13 col4\" >21.000000</td>\n",
              "      <td id=\"T_0f863_row13_col5\" class=\"data row13 col5\" >0.010000</td>\n",
              "    </tr>\n",
              "  </tbody>\n",
              "</table>\n"
            ]
          },
          "metadata": {},
          "execution_count": 64
        }
      ]
    },
    {
      "cell_type": "code",
      "source": [
        "# Relacionando os valores máximos da segunda derivada para encontrar o ponto de equivalencia\n",
        "\n",
        "ma_dev2 = float(input(\"Digite o ponto do maior valor da segunda derivada (Δ2pH/ΔV2): \"))\n",
        "me_dev2 = float(input(\"Digite o ponto do menor valor da segunda derivada (Δ2pH/ΔV2): \"))\n",
        "ma_v = float(input(\"Digite o ponto da V' relacionado ao maior valor da segunda derivada: \"))\n",
        "me_v = float(input(\"Digite o ponto da V' relacionado ao menor valor da segunda derivada: \"))\n",
        "\n",
        "# Interpolação para determinar o ponto de equivalência\n",
        "ponto_equiv = (((ma_dev2 - 0) / (ma_dev2 - me_dev2))*(me_v - ma_v)) + ma_v\n",
        "\n",
        "print(f\"O volume padrão titulado no ponto de equivalência foi de: {ponto_equiv:.8f} mL\")"
      ],
      "metadata": {
        "colab": {
          "base_uri": "https://localhost:8080/"
        },
        "id": "i5_ME-PQa_SY",
        "outputId": "94166f17-9d70-4687-d5cc-707dc36aef67"
      },
      "execution_count": 65,
      "outputs": [
        {
          "output_type": "stream",
          "name": "stdout",
          "text": [
            "Digite o ponto do maior valor da segunda derivada (Δ2pH/ΔV2): 56\n",
            "Digite o ponto do menor valor da segunda derivada (Δ2pH/ΔV2): -51\n",
            "Digite o ponto da V' relacionado ao maior valor da segunda derivada: 19.2\n",
            "Digite o ponto da V' relacionado ao menor valor da segunda derivada: 19.4\n",
            "O volume padrão titulado no ponto de equivalência foi de: 19.30467290 mL\n"
          ]
        }
      ]
    },
    {
      "cell_type": "code",
      "source": [
        "# Obtendo dados da massa molar do padrão\n",
        "f = Formula(padrao)\n",
        "padrao_mass = f.mass\n",
        "\n",
        "# Obtendo dados da massa molar do analito\n",
        "f = Formula(analito)\n",
        "analito_mass = f.mass\n",
        "\n",
        "# Obtendo a massa real do analito\n",
        "m_analito = (analito_mass/10) * padrao_conc * ponto_equiv\n",
        "\n",
        "# Obtendo o teor do analito\n",
        "teor = (m_analito/analito_m)*100\n",
        "\n",
        "print(f'A massa molar do {padrao} é igual a {padrao_mass}')\n",
        "print(f'A massa molar do {analito} é: {analito_mass}')\n",
        "print()\n",
        "print(f'A massa do {analito} analisado foi de {m_analito:.2f} mg')\n",
        "print(f'O teor do {analito} na sua amostra é de {teor:.2f}%')"
      ],
      "metadata": {
        "colab": {
          "base_uri": "https://localhost:8080/"
        },
        "id": "yyIR4UNvG-Lg",
        "outputId": "fb3813da-d1bc-425c-e269-df2b2f2ca550"
      },
      "execution_count": 71,
      "outputs": [
        {
          "output_type": "stream",
          "name": "stdout",
          "text": [
            "A massa molar do NaOH é igual a 39.99711528\n",
            "A massa molar do C9H8O4 é: 180.157808\n",
            "\n",
            "A massa do C9H8O4 analisado foi de 327.15 mg\n",
            "O teor do C9H8O4 na sua amostra é de 80.86%\n"
          ]
        }
      ]
    },
    {
      "cell_type": "markdown",
      "source": [
        "Bibliografia\n",
        "\n",
        "ARAÚJO, Hiram; IRIS, Ademário. E-book - Análise Instrumental - Uma Abordagem Prática. [Digite o Local da Editora]: Grupo GEN, 2021. E-book. ISBN 9788521637486. Disponível em: https://integrada.minhabiblioteca.com.br/#/books/9788521637486/. Acesso em: 11 out. 2023.\n",
        "\n",
        "https://pypi.org/project/molmass/\n",
        "\n",
        "https://matplotlib.org/\n",
        "\n",
        "https://pandas.pydata.org/"
      ],
      "metadata": {
        "id": "7gGB8zvuNtBU"
      }
    }
  ]
}