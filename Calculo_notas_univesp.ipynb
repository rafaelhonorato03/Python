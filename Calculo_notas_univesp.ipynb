{
  "nbformat": 4,
  "nbformat_minor": 0,
  "metadata": {
    "colab": {
      "provenance": [],
      "authorship_tag": "ABX9TyOmfnU8a+sJDyiJjNU4OURq",
      "include_colab_link": true
    },
    "kernelspec": {
      "name": "python3",
      "display_name": "Python 3"
    },
    "language_info": {
      "name": "python"
    }
  },
  "cells": [
    {
      "cell_type": "markdown",
      "metadata": {
        "id": "view-in-github",
        "colab_type": "text"
      },
      "source": [
        "<a href=\"https://colab.research.google.com/github/rafaelhonorato03/Python/blob/main/Calculo_notas_univesp.ipynb\" target=\"_parent\"><img src=\"https://colab.research.google.com/assets/colab-badge.svg\" alt=\"Open In Colab\"/></a>"
      ]
    },
    {
      "cell_type": "markdown",
      "source": [
        "# Calculadora de aprovação Univesp\n",
        "\n",
        "Um dos principais desejos de um estudante universitário é conhecer o seu status de aprovação em uma disciplina. Com esse objetivo em mente, foi desenvolvida uma aplicação para os estudantes da Univesp. Essa ferramenta permite que os alunos calculem se foram aprovados ou não com base em suas notas atuais e se preparem adequadamente para futuras avaliações, tendo plena consciência do que é necessário para alcançar a aprovação."
      ],
      "metadata": {
        "id": "TaGbkOIJFuW1"
      }
    },
    {
      "cell_type": "markdown",
      "source": [
        "## Requisitos de aprovação\n",
        "\n",
        "Conforme as diretrizes acadêmicas da Univesp, a aprovação requer que o aluno alcance uma média final igual ou superior a 5,0 (cinco). Para alcançar esse objetivo, é obrigatório realizar a Prova Regular, que possui um peso de 60% na composição da média, além de cumprir as atividades, que têm peso de 40%.\n",
        "\n",
        "Em casos em que a média na disciplina seja inferior a 5,0 (cinco), o aluno é obrigado a fazer um exame presencial. Esse exame tem uma pontuação que varia de 0 (zero) a 10 (dez). A nota obtida no exame é somada à média anteriormente alcançada, e o resultado é dividido por dois para determinar a média final do aluno na respectiva disciplina.\n"
      ],
      "metadata": {
        "id": "L-IK1z6-F2hh"
      }
    },
    {
      "cell_type": "markdown",
      "source": [
        "## Passos para o cálculo\n",
        "\n",
        "### 1 . Calcular nota de avaliação necessária para ser aprovado"
      ],
      "metadata": {
        "id": "b1ibLuI8F5jz"
      }
    },
    {
      "cell_type": "code",
      "source": [
        "nota_atividades = float(input(\"Qual a sua nota nas atividades semanais? \"))\n",
        "\n",
        "nota_avaliacao = (5 - (0.4 * nota_atividades))/0.6\n",
        "print()\n",
        "print(f\"A nota mínima que você precisa na avaliação é: {nota_avaliacao:.2f}\")"
      ],
      "metadata": {
        "colab": {
          "base_uri": "https://localhost:8080/"
        },
        "id": "bew3RUhSsZr-",
        "outputId": "d33d51b3-bfd7-4a52-e791-1ec1a0b0a0b9"
      },
      "execution_count": 28,
      "outputs": [
        {
          "output_type": "stream",
          "name": "stdout",
          "text": [
            "Qual a sua nota nas atividades semanais? 0\n",
            "\n",
            "A nota mínima que você precisa na avaliação é: 8.33\n"
          ]
        }
      ]
    },
    {
      "cell_type": "markdown",
      "source": [
        "### 2. Verificar se você foi aprovado e calcular a nota necessária para o exame (caso necessário)\n"
      ],
      "metadata": {
        "id": "umvOJoSGF_SA"
      }
    },
    {
      "cell_type": "code",
      "source": [
        "nota_atividades = float(input(\"Qual a sua nota nas atividades semanais? \"))\n",
        "nota_avaliacao = float(input(\"Qual a sua nota da avaliação bimestral? \"))\n",
        "\n",
        "nota_final = (nota_atividades *0.4) + (nota_avaliacao * 0.6)\n",
        "nota_minima_exame = (5*2)-nota_final\n",
        "\n",
        "if nota_final >= 5:\n",
        "  print()\n",
        "  print(f\"Parabéns, você foi aprovado. Sua nota foi: {nota_final:.2f}\")\n",
        "else:\n",
        "  print()\n",
        "  print(f\"Não foi dessa vez, você precisará realizar o exame. Sua nota foi: {nota_final:.2f}. E sua nota mínima no exame para alcançar a aprovação é: {nota_minima_exame:.2f}\")"
      ],
      "metadata": {
        "colab": {
          "base_uri": "https://localhost:8080/"
        },
        "id": "tqfLsCYsrCO9",
        "outputId": "de4f829b-44d6-48fc-debb-cc4c8d79a570"
      },
      "execution_count": 33,
      "outputs": [
        {
          "output_type": "stream",
          "name": "stdout",
          "text": [
            "Qual a sua nota nas atividades semanais? 1\n",
            "Qual a sua nota da avaliação bimestral? 2\n",
            "\n",
            "Não foi dessa vez, você precisará realizar o exame. Sua nota foi: 1.60. E sua nota mínima no exame para alcançar a aprovação é: 8.40\n"
          ]
        }
      ]
    },
    {
      "cell_type": "markdown",
      "source": [
        "### 3. Verificar se você foi aprovado pós exame\n"
      ],
      "metadata": {
        "id": "1sq3VSZQGDEj"
      }
    },
    {
      "cell_type": "code",
      "source": [
        "nota_final = float(input(\"Qual foi a sua nota final? \"))\n",
        "nota_exame = float(input(\"Qual a sua nota do exame? \"))\n",
        "\n",
        "media_final = (nota_final + nota_exame) / 2\n",
        "\n",
        "if media_final >=5:\n",
        "  print()\n",
        "  print(f\"Ufa, você conseguiu! Foi aprovado com a nota: {media_final:.2f}.\")\n",
        "else:\n",
        "  print()\n",
        "  print(f\"Infelizmente não foi dessa vez, sua nota foi: {media_final:.2f}, você foi reprovado e necessitará realizar a matéria novamente.\")"
      ],
      "metadata": {
        "colab": {
          "base_uri": "https://localhost:8080/"
        },
        "id": "oITB9mTvwZiw",
        "outputId": "c0ec7f97-64b1-4917-c3bf-5b2d63783d9e"
      },
      "execution_count": 35,
      "outputs": [
        {
          "output_type": "stream",
          "name": "stdout",
          "text": [
            "Qual foi a sua nota final? 4\n",
            "Qual a sua nota do exame? 4\n",
            "Infelizmente não foi dessa vez, sua nota foi: 4.00, você foi reprovado e necessitará realizar a matéria novamente.\n"
          ]
        }
      ]
    }
  ]
}